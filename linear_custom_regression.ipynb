{
 "cells": [
  {
   "cell_type": "code",
   "execution_count": 5,
   "metadata": {},
   "outputs": [],
   "source": [
    "import  numpy as np\n",
    "import matplotlib.pyplot as plt\n",
    "from matplotlib import style\n",
    "from statistics import mean\n",
    "\n",
    "style.use('ggplot')\n",
    "# create datasets\n",
    "x_datasets=np.array([1,2,3,4,5,6])\n",
    "y_datasets=np.array([5,4,6,5,6,7])\n",
    "\n",
    "#  basic linear expression \n",
    "#y=mx+c\n",
    "# here y is dependent variable , x is independent var , m is slope\n",
    "#  c is intercept point for y \n",
    "\n",
    "#  c  =  mean(y) - m *  mean(x)\n",
    "#  m  =  mean(x) * mean(y) -  mean(x*y) / (mean(x))^2  - (mean(x)^2)\n",
    "\n",
    "def slope():\n",
    "    m = (((mean(x_datasets) *  mean(y_datasets)) - (mean(x_datasets*y_datasets))) / ((mean(x_datasets)*mean(x_datasets)) - mean(x_datasets*x_datasets)))\n",
    "    return m\n",
    "\n"
   ]
  },
  {
   "cell_type": "code",
   "execution_count": 7,
   "metadata": {},
   "outputs": [
    {
     "name": "stdout",
     "output_type": "stream",
     "text": [
      "0.833333333333\n"
     ]
    }
   ],
   "source": [
    "print(slope())"
   ]
  },
  {
   "cell_type": "code",
   "execution_count": 8,
   "metadata": {},
   "outputs": [
    {
     "name": "stdout",
     "output_type": "stream",
     "text": [
      "2.5\n"
     ]
    }
   ],
   "source": [
    "def  intercept():\n",
    "    c = mean(y_datasets) - (slope() * mean(x_datasets))\n",
    "    return c\n",
    "print(intercept())\n"
   ]
  },
  {
   "cell_type": "code",
   "execution_count": 9,
   "metadata": {},
   "outputs": [
    {
     "data": {
      "image/png": "[encoded data removed]",
      "text/plain": [
       "<matplotlib.figure.Figure at 0x7ff7c41feac8>"
      ]
     },
     "metadata": {},
     "output_type": "display_data"
    }
   ],
   "source": [
    "m=slope()\n",
    "c=intercept()\n",
    "reg_line=[((m*x)+c) for  x in x_datasets ]\n",
    "plt.scatter(x_datasets,y_datasets)\n",
    "plt.plot(x_datasets,reg_line)\n",
    "plt.show()\n"
   ]
  },
  {
   "cell_type": "code",
   "execution_count": null,
   "metadata": {},
   "outputs": [],
   "source": []
  }
 ],
 "metadata": {
  "kernelspec": {
   "display_name": "Python 3",
   "language": "python",
   "name": "python3"
  },
  "language_info": {
   "codemirror_mode": {
    "name": "ipython",
    "version": 3
   },
   "file_extension": ".py",
   "mimetype": "text/x-python",
   "name": "python",
   "nbconvert_exporter": "python",
   "pygments_lexer": "ipython3",
   "version": "3.5.2"
  }
 },
 "nbformat": 4,
 "nbformat_minor": 2
}
