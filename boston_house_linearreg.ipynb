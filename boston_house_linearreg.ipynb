{
 "cells": [
  {
   "cell_type": "code",
   "execution_count": 38,
   "metadata": {
    "scrolled": true
   },
   "outputs": [
    {
     "data": {
      "text/plain": [
       "0    25.407977\n",
       "dtype: float64"
      ]
     },
     "execution_count": 38,
     "metadata": {},
     "output_type": "execute_result"
    }
   ],
   "source": [
    "import  pandas  as pd\n",
    "import  numpy  as np\n",
    "from sklearn import  linear_model\n",
    "from  sklearn.cross_validation import train_test_split\n",
    "from  sklearn.datasets import  load_boston\n",
    "from  time import  sleep\n",
    "\n",
    "boston_house_data=load_boston()\n",
    "\n",
    "# Data set URL  http://archive.ics.uci.edu/ml/datasets.html\n",
    "\n",
    "#print(boston_house_data)\n",
    "#boston_house_data\n",
    "#Description about data\n",
    "boston_house_data['DESCR']\n",
    "#  print  back real data\n",
    "boston_house_data['data']\n",
    "# features of that data \n",
    "boston_house_data['feature_names']\n",
    "\n",
    "#  now predicted data\n",
    "boston_house_data['target']\n",
    "\n",
    "#  creating  data frame using pandas\n",
    "df_x=pd.DataFrame(boston_house_data.data,columns=boston_house_data.feature_names)\n",
    "df_y=pd.DataFrame(boston_house_data.target)\n",
    "# describe df_x\n",
    "df_x.describe()\n",
    "\n",
    "#  creating regression by scikit-learn\n",
    "reg=linear_model.LinearRegression()\n",
    "x_train,x_test,y_train,y_test=train_test_split(df_x,df_y,test_size=0.2,random_state=4)\n",
    "# generally test_size is 0.2 or 0.8 \n",
    "reg.fit(x_train,y_train)\n",
    "# \n",
    "reg.coef_\n",
    "check=reg.predict(x_test)\n",
    "check\n",
    "\n",
    "\n",
    "# mean squARE ERROR \n",
    "np.mean((check-y_test)**2)\n",
    "\n"
   ]
  },
  {
   "cell_type": "code",
   "execution_count": null,
   "metadata": {},
   "outputs": [],
   "source": []
  }
 ],
 "metadata": {
  "kernelspec": {
   "display_name": "Python 3",
   "language": "python",
   "name": "python3"
  },
  "language_info": {
   "codemirror_mode": {
    "name": "ipython",
    "version": 3
   },
   "file_extension": ".py",
   "mimetype": "text/x-python",
   "name": "python",
   "nbconvert_exporter": "python",
   "pygments_lexer": "ipython3",
   "version": "3.5.2"
  }
 },
 "nbformat": 4,
 "nbformat_minor": 2
}
